{
 "cells": [
  {
   "cell_type": "markdown",
   "metadata": {},
   "source": [
    "packages needed: urllib.request, urllib.parse, requests, pyfits, numpy, scipy.signal"
   ]
  },
  {
   "cell_type": "code",
   "execution_count": 1,
   "metadata": {},
   "outputs": [
    {
     "name": "stderr",
     "output_type": "stream",
     "text": [
      "C:\\Anaconda3-v5.0.1-x64\\lib\\site-packages\\pyfits-3.5-py3.6-win-amd64.egg\\pyfits\\__init__.py:22: PyFITSDeprecationWarning: PyFITS is deprecated, please use astropy.io.fits\n",
      "  PyFITSDeprecationWarning)  # noqa\n"
     ]
    }
   ],
   "source": [
    "#!/usr/bin/python\n",
    "# -*- coding: UTF-8 -*-\n",
    "import os\n",
    "import urllib.request\n",
    "import urllib.parse\n",
    "import requests\n",
    "import pyfits\n",
    "import numpy\n",
    "import scipy.signal\n",
    "\n",
    "class lamost:\n",
    "    email=None\n",
    "    token=None\n",
    "    dataset=None\n",
    "    version=None\n",
    "    __isdev=False\n",
    "\n",
    "    def __init__(self, isdev=False, dataset=5):\n",
    "        self.__isdev=isdev\n",
    "        self.dataset=dataset\n",
    "\n",
    "    def __getDataset(self):\n",
    "        prefix='dr5'\n",
    "        if self.dataset is not None:\n",
    "            prefix = 'dr%d'%self.dataset\n",
    "        if self.__isdev: return 'l'+prefix\n",
    "        else: return prefix\n",
    "\n",
    "    def __getVersion(self):\n",
    "        if self.version is not None:\n",
    "            return '/v%d'%self.version\n",
    "        return ''\n",
    "\n",
    "    __config=None\n",
    "    __config_file_path=os.path.expanduser('~')+'/pylamost.ini'\n",
    "    \n",
    "    def __getConfig(self, reload=False):\n",
    "        if not os.path.exists(self.__config_file_path): return None\n",
    "        \n",
    "        if not reload and None!=self.__config: return self.__config\n",
    "        \n",
    "        with open(self.__config_file_path) as fh:\n",
    "            self.__config={}\n",
    "            for line in fh:\n",
    "                if line.startswith('#'):continue\n",
    "                k,v=line.split(\"=\")\n",
    "                self.__config[k.strip()]=v.strip()\n",
    "        return self.__config\n",
    "\n",
    "    def __detectToken(self):\n",
    "        if self.token is not None: return True\n",
    "        cf = self.__getConfig()\n",
    "        if cf is None or 'token' not in cf.keys(): \n",
    "            print('please set your token')\n",
    "            return False\n",
    "        self.token=cf['token']\n",
    "        return True\n",
    "\n",
    "    def download(self, url, savedir='./'):\n",
    "        response = urllib.request.urlopen(url)\n",
    "        data = response.read()\n",
    "        savefile=savedir+'/'+response.getheader(\"Content-disposition\").split('=')[1]\n",
    "        with open(savefile, 'wb') as fh:\n",
    "            fh.write(data)\n",
    "\n",
    "    def getUrl(self, url, params=None):\n",
    "        if params is None:\n",
    "            response = urllib.request.urlopen(url)\n",
    "        else:\n",
    "            response = urllib.request.urlopen(url, urllib.parse.urlencode(params).encode('utf-8'))\n",
    "        chrset = response.headers.get_content_charset()\n",
    "        if chrset is None: chrset='utf-8'\n",
    "        data = response.read().decode(chrset)\n",
    "        return data\n",
    "\n",
    "    def downloadCatalog(self, catname, savedir='./'):\n",
    "        caturl='http://{0}.lamost.org{1}/catdl?name={2}&token={3}'.format(self.__getDataset(), self.__getVersion(), catname, self.token)\n",
    "        self.download(url, savedir)\n",
    "\n",
    "    def downloadFits(self, obsid, savedir='./'):\n",
    "        if not self.__detectToken(): return\n",
    "        fitsurl='http://{0}.lamost.org{1}/spectrum/fits/{2}?token={3}'.format(self.__getDataset(), self.__getVersion(), obsid, self.token)\n",
    "        self.download(fitsurl, savedir)\n",
    "\n",
    "    def downloadPng(self, obsid, savedir='./'):\n",
    "        if not self.__detectToken(): return\n",
    "        pngurl='http://{0}.lamost.org{1}/spectrum/png/{2}?token={3}'.format(self.__getDataset(), self.__getVersion(), obsid, self.token)\n",
    "        self.download(pngurl, savedir)\n",
    "\n",
    "    def getFitsCsv(self, obsid):\n",
    "        if not self.__detectToken(): return None\n",
    "        url='http://{0}.lamost.org{1}/spectrum/fits2csv/{2}?token={3}'.format(self.__getDataset(), self.__getVersion(), obsid, self.token)\n",
    "        return self.getUrl(url)\n",
    "\n",
    "    def getInfo(self, obsid):\n",
    "        if not self.__detectToken(): return None\n",
    "        #url='http://{0}.lamost.org{1}/spectrum/info/{2}?token={3}'.format(self.__getDataset(), self.__getVersion(), obsid, self.token)\n",
    "        #return self.getUrl(url, params)\n",
    "        url='http://{0}.lamost.org{1}/spectrum/info/{2}'.format(self.__getDataset(), self.__getVersion(), obsid)\n",
    "        return self.getUrl(url, {'token':self.token})\n",
    "\n",
    "    #Cone Search Protocol\n",
    "    def conesearch(self, ra, dec, radius):\n",
    "        if not self.__detectToken(): return\n",
    "        conesearchurl='http://{0}.lamost.org{1}/voservice/conesearch?ra={2}&dec={3}&sr={4}&token={5}'.format(self.__getDataset(), self.__getVersion(), ra, dec, radius, self.token)\n",
    "        return self.getUrl(conesearchurl)\n",
    "\n",
    "    #Simple Spectral Access Protocol\n",
    "    def ssap(self, ra, dec, radius):\n",
    "        if not self.__detectToken(): return\n",
    "        ssapurl='http://{0}.lamost.org{1}/voservice/ssap?pos={2},{3}&size={4}&token={5}'.format(self.__getDataset(), self.__getVersion(), ra, dec, radius, self.token)\n",
    "        return self.getUrl(ssapurl)\n",
    "\n",
    "    def sql(self, sql):\n",
    "        if not self.__detectToken(): return\n",
    "        sqlurl='http://{0}.lamost.org{1}/sql/q?&token={2}'.format(self.__getDataset(), self.__getVersion(), self.token)\n",
    "        return self.getUrl(sqlurl, {'output.fmt':'csv', 'sql':sql})\n",
    "\n",
    "    def query(self, params):\n",
    "        if not self.__detectToken(): return\n",
    "        qurl='http://{0}.lamost.org{1}/q?token={2}'.format(self.__getDataset(), self.__getVersion(), self.token)\n",
    "        return self.getUrl(qurl, params)\n",
    "    \n",
    "    def query2(self, params, files):\n",
    "        if not self.__detectToken(): return\n",
    "        qurl='http://{0}.lamost.org{1}/q?token={2}'.format(self.__getDataset(), self.__getVersion(),self.token)\n",
    "        r=requests.post(qurl, data=params, files=files)\n",
    "        return str(r.text)\n",
    "    \n",
    "    def readFits(self, filename):\n",
    "        hdulist = pyfits.open(filename)\n",
    "        head = hdulist[0].header\n",
    "        scidata = hdulist[0].data\n",
    "        coeff0 = head['COEFF0']\n",
    "        coeff1 = head['COEFF1']\n",
    "        pixel_num = head['NAXIS1'] \n",
    "        specflux = scidata[0,]\n",
    "        spec_noconti = scidata[2,]\n",
    "        wavelength=numpy.linspace(0,pixel_num,pixel_num)\n",
    "        wavelength=numpy.power(10,(coeff0+wavelength*coeff1))\n",
    "        hdulist.close()\n",
    "        #\n",
    "        spec_smooth_7=scipy.signal.medfilt(specflux,7)\n",
    "        spec_smooth_15=scipy.signal.medfilt(specflux,15)\n",
    "        return (wavelength, specflux, spec_smooth_7, spec_smooth_15)\n",
    "    "
   ]
  },
  {
   "cell_type": "code",
   "execution_count": 2,
   "metadata": {
    "collapsed": true
   },
   "outputs": [],
   "source": [
    "def showHtml(html):\n",
    "    from IPython.core.display import display, HTML\n",
    "    display(HTML(html))"
   ]
  },
  {
   "cell_type": "markdown",
   "metadata": {},
   "source": [
    "In order to access protected LAMOST data, you should provide your token.\n",
    "Your token can be obtained from http://dr.lamost.org/ucenter/mytoken, the \"Password\" is the token.\n",
    "When you get your token you can also create a file `~/pylamost.ini` or `%userprofile%/pylamost.ini` on Windows, with content:\n",
    "```\n",
    "token=12345678\n",
    "```\n",
    "Then you don't have to write the token next time."
   ]
  },
  {
   "cell_type": "code",
   "execution_count": 3,
   "metadata": {
    "collapsed": true
   },
   "outputs": [],
   "source": [
    "lm=lamost()#init the lamost class\n",
    "#lm.token='12345678'#specify your token. You can pass this step, if you created the ~/pylamost.ini file.\n",
    "lm.dataset=5 #specify the Data Release number\n",
    "#lm.version=1 #specify the data version, or leave it None to always use the leatest version."
   ]
  },
  {
   "cell_type": "markdown",
   "metadata": {},
   "source": [
    "Query interface"
   ]
  },
  {
   "cell_type": "code",
   "execution_count": 4,
   "metadata": {
    "scrolled": true
   },
   "outputs": [
    {
     "data": {
      "text/html": [
       "#\tPowered by Chinese Virtual Observatory (China-VO): www.china-vo.org 2018-01-29 15:31:46\n",
       "#\tIn case of problem: please contact support@lamost.org\n",
       "#----------------------------------------------------------------------------\n",
       "#\tobsid|long|I8|\n",
       "#\tra|double|F16.10|\n",
       "#\tdec|double|F16.10|\n",
       "#----------------------------------------------------------------------------\n",
       "obsid|ra|dec\n",
       "353301001|341.0645660000|19.5665910000\n"
      ],
      "text/plain": [
       "<IPython.core.display.HTML object>"
      ]
     },
     "metadata": {},
     "output_type": "display_data"
    }
   ],
   "source": [
    "params={'output.fmt':'csv','obsidTextarea':'353301001'}\n",
    "hl=lm.query(params)\n",
    "showHtml(hl)"
   ]
  },
  {
   "cell_type": "code",
   "execution_count": 5,
   "metadata": {
    "scrolled": true
   },
   "outputs": [
    {
     "data": {
      "text/html": [
       "#\tPowered by Chinese Virtual Observatory (China-VO): www.china-vo.org 2018-01-29 15:31:46\n",
       "#\tIn case of problem: please contact support@lamost.org\n",
       "#----------------------------------------------------------------------------\n",
       "#\tinput_id|int|I8|Identifier of the input-object\n",
       "#\tinput_ra|double|F16.10|RA of the input-object\n",
       "#\tinput_dec|double|F16.10|Dec of the input-object\n",
       "#\tdist|double|F16.10|Distance between LAMOST and the input ojbect, in arcsec\n",
       "#\tobsid|long|I8|\n",
       "#\tra|double|F16.10|\n",
       "#\tdec|double|F16.10|\n",
       "#----------------------------------------------------------------------------\n",
       "input_id|input_ra|input_dec|dist|obsid|ra|dec\n",
       "0|341.343583|19.510335|0.001439999988081657|353301002|341.3435830000|19.5103354000\n",
       "1|341.364474|19.595276|0.0|353301023|341.3644740000|19.5952760000\n",
       "2|340.560232|19.855086|0.0|353301041|340.5602320000|19.8550860000\n"
      ],
      "text/plain": [
       "<IPython.core.display.HTML object>"
      ]
     },
     "metadata": {},
     "output_type": "display_data"
    }
   ],
   "source": [
    "params={'output.fmt':'csv','pos.type':'proximity'}\n",
    "files={'pos.posfile':('sample.txt', open('sample.txt', 'r'))}\n",
    "hl=lm.query2(params, files)\n",
    "showHtml(hl)"
   ]
  },
  {
   "cell_type": "markdown",
   "metadata": {},
   "source": [
    "SQL query interface"
   ]
  },
  {
   "cell_type": "code",
   "execution_count": 6,
   "metadata": {
    "scrolled": true
   },
   "outputs": [
    {
     "data": {
      "text/plain": [
       "'#\\tPowered by Chinese Virtual Observatory (China-VO): www.china-vo.org 2018-01-29 15:31:46\\n#\\tIn case of problem: please contact support@lamost.org\\n#----------------------------------------------------------------------------\\n#\\t?column?|null|null|null\\n#----------------------------------------------------------------------------\\n?column?\\n1\\n'"
      ]
     },
     "execution_count": 6,
     "metadata": {},
     "output_type": "execute_result"
    }
   ],
   "source": [
    "lm.sql('select 1')"
   ]
  },
  {
   "cell_type": "markdown",
   "metadata": {},
   "source": [
    "simple information"
   ]
  },
  {
   "cell_type": "code",
   "execution_count": 7,
   "metadata": {},
   "outputs": [
    {
     "data": {
      "text/plain": [
       "'{\"response\":[{\"what\":\"obsid\",\"action\":\"\",\"data\":\"353301001\"},{\"what\":\"designation\",\"action\":\"\",\"data\":\"J224415.49+193359.7\"},{\"what\":\"obsdate\",\"action\":\"\",\"data\":\"2015-09-12\"},{\"what\":\"mjd\",\"action\":\"\",\"data\":\"57277\"},{\"what\":\"lmjd\",\"action\":\"\",\"data\":\"57278\"},{\"what\":\"planid\",\"action\":\"\",\"data\":\"EG224429N215706B01\"},{\"what\":\"spid\",\"action\":\"\",\"data\":\"1\"},{\"what\":\"fiberid\",\"action\":\"\",\"data\":\"1\"},{\"what\":\"ra\",\"action\":\"\",\"data\":\"341.0645660000\"},{\"what\":\"dec\",\"action\":\"\",\"data\":\"19.5665910000\"},{\"what\":\"class\",\"action\":\"\",\"data\":\"STAR\"},{\"what\":\"subclass\",\"action\":\"\",\"data\":\"K7\"},{\"what\":\"z\",\"action\":\"\",\"data\":\"0.0000400277\"},{\"what\":\"logg\",\"action\":\"\",\"data\":\"4.701\"},{\"what\":\"teff\",\"action\":\"\",\"data\":\"4141.41\"},{\"what\":\"feh\",\"action\":\"\",\"data\":\"-0.323\"},{\"what\":\"rv\",\"action\":\"\",\"data\":\"12.00\"}]}'"
      ]
     },
     "execution_count": 7,
     "metadata": {},
     "output_type": "execute_result"
    }
   ],
   "source": [
    "lm.getInfo('353301001')"
   ]
  },
  {
   "cell_type": "markdown",
   "metadata": {},
   "source": [
    "download FITS file"
   ]
  },
  {
   "cell_type": "code",
   "execution_count": 8,
   "metadata": {
    "collapsed": true
   },
   "outputs": [],
   "source": [
    "lm.downloadFits(obsid='353301001',savedir='./')"
   ]
  },
  {
   "cell_type": "markdown",
   "metadata": {},
   "source": [
    "download png"
   ]
  },
  {
   "cell_type": "code",
   "execution_count": 9,
   "metadata": {
    "collapsed": true
   },
   "outputs": [],
   "source": [
    "lm.downloadPng(obsid='353301007',savedir='./')"
   ]
  },
  {
   "cell_type": "markdown",
   "metadata": {},
   "source": [
    "download csv format spectrum"
   ]
  },
  {
   "cell_type": "code",
   "execution_count": 10,
   "metadata": {},
   "outputs": [],
   "source": [
    "csv = lm.getFitsCsv(obsid='353301007')\n",
    "#print(csv)"
   ]
  },
  {
   "cell_type": "markdown",
   "metadata": {},
   "source": [
    "Cone Search Protocol"
   ]
  },
  {
   "cell_type": "code",
   "execution_count": 11,
   "metadata": {},
   "outputs": [],
   "source": [
    "cs = lm.conesearch(ra=10.0004738,dec=40.9952444,radius=0.2)\n",
    "#print(cs)"
   ]
  },
  {
   "cell_type": "markdown",
   "metadata": {},
   "source": [
    "Simple Spectral Access Protocol"
   ]
  },
  {
   "cell_type": "code",
   "execution_count": 12,
   "metadata": {},
   "outputs": [],
   "source": [
    "ssap = lm.ssap(ra=10.0004738,dec=40.9952444,radius=0.2)\n",
    "#print(ssap)"
   ]
  },
  {
   "cell_type": "markdown",
   "metadata": {},
   "source": [
    "read local spectrum fits to data array, then same result as getFitsCsv() which is online function"
   ]
  },
  {
   "cell_type": "code",
   "execution_count": 13,
   "metadata": {},
   "outputs": [
    {
     "name": "stderr",
     "output_type": "stream",
     "text": [
      "C:\\Anaconda3-v5.0.1-x64\\lib\\site-packages\\pyfits-3.5-py3.6-win-amd64.egg\\pyfits\\util.py:899: UserWarning: Could not find appropriate MS Visual C Runtime library or library is corrupt/misconfigured; cannot determine whether your file object was opened in append mode.  Please consider using a file object opened in write mode instead.\n",
      "  'Could not find appropriate MS Visual C Runtime '\n"
     ]
    }
   ],
   "source": [
    "wavelength, specflux, spec_smooth_7, spec_smooth_15=lm.readFits('spec-57278-EG224429N215706B01_sp01-001.fits.gz')\n",
    "#print('wavelength', wavelength)\n",
    "#print('specflux', specflux)\n",
    "#print('spec_smooth_7', spec_smooth_7)\n",
    "#print('spec_smooth_15', spec_smooth_15)"
   ]
  }
 ],
 "metadata": {
  "kernelspec": {
   "display_name": "Python 3",
   "language": "python",
   "name": "python3"
  },
  "language_info": {
   "codemirror_mode": {
    "name": "ipython",
    "version": 3
   },
   "file_extension": ".py",
   "mimetype": "text/x-python",
   "name": "python",
   "nbconvert_exporter": "python",
   "pygments_lexer": "ipython3",
   "version": "3.6.3"
  }
 },
 "nbformat": 4,
 "nbformat_minor": 2
}
